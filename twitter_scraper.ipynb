{
 "cells": [
  {
   "cell_type": "code",
   "execution_count": 30,
   "metadata": {},
   "outputs": [],
   "source": [
    "import os\n",
    "import pandas as pd\n",
    "import snscrape.modules.twitter as sntwitter\n"
   ]
  },
  {
   "cell_type": "code",
   "execution_count": 25,
   "metadata": {},
   "outputs": [
    {
     "data": {
      "text/plain": [
       "0"
      ]
     },
     "execution_count": 25,
     "metadata": {},
     "output_type": "execute_result"
    }
   ],
   "source": [
    "# List of tweet IDs\n",
    "tweet_ids = [\n",
    "    \"1359774564394430465\", \"1359783487507738626\", \"1359783969840070656\"\n",
    "]"
   ]
  },
  {
   "attachments": {},
   "cell_type": "markdown",
   "metadata": {},
   "source": [
    "Get more information: [tweet.date, tweet.id, tweet.content, tweet.user.username, tweet.likeCount]\n"
   ]
  },
  {
   "cell_type": "code",
   "execution_count": 32,
   "metadata": {},
   "outputs": [
    {
     "name": "stderr",
     "output_type": "stream",
     "text": [
      "/var/folders/px/by1fmlxd5ggfyj8p6_c8m_zh0000gn/T/ipykernel_20231/843643929.py:14: DeprecatedFeatureWarning: content is deprecated, use rawContent instead\n",
      "  tweets_data.append({'id': tweet.id, 'tweet': tweet.content})\n"
     ]
    },
    {
     "name": "stdout",
     "output_type": "stream",
     "text": [
      "                    id                                              tweet\n",
      "0  1359774564394430465  RT @bzga_de: Rund um die #CoronaSchutzimpfung ...\n",
      "1  1359783487507738626  RT @rki_de: Wichtiges Feature in Version 1.12:...\n",
      "2  1359783969840070656  RT @rki_de: Wichtige Neuerung in der Version 1...\n"
     ]
    }
   ],
   "source": [
    "# Initialize list to store tweet data\n",
    "tweets_data = []\n",
    "\n",
    "# Loop through the tweet IDs and get each tweet\n",
    "for tweet_id in tweet_ids:\n",
    "    # Using TwitterTweetScraper to scrape data and append to list\n",
    "    for i, tweet in enumerate(\n",
    "            sntwitter.TwitterTweetScraper(tweet_id).get_items()):\n",
    "        tweets_data.append({'id': tweet.id, 'tweet': tweet.content})\n",
    "\n",
    "# Convert list of dictionaries to DataFrame\n",
    "tweets_df = pd.DataFrame(tweets_data)\n",
    "\n",
    "print(tweets_df)"
   ]
  },
  {
   "cell_type": "code",
   "execution_count": 33,
   "metadata": {},
   "outputs": [],
   "source": [
    "tweets_df.to_csv('tweets_official.csv', index=False)"
   ]
  },
  {
   "cell_type": "code",
   "execution_count": null,
   "metadata": {},
   "outputs": [],
   "source": []
  }
 ],
 "metadata": {
  "kernelspec": {
   "display_name": "Python 3",
   "language": "python",
   "name": "python3"
  },
  "language_info": {
   "codemirror_mode": {
    "name": "ipython",
    "version": 3
   },
   "file_extension": ".py",
   "mimetype": "text/x-python",
   "name": "python",
   "nbconvert_exporter": "python",
   "pygments_lexer": "ipython3",
   "version": "3.10.6"
  },
  "orig_nbformat": 4
 },
 "nbformat": 4,
 "nbformat_minor": 2
}
