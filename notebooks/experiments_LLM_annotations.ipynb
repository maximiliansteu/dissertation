{
  "nbformat": 4,
  "nbformat_minor": 0,
  "metadata": {
    "colab": {
      "provenance": [],
      "gpuType": "V100",
      "machine_shape": "hm"
    },
    "kernelspec": {
      "name": "python3",
      "display_name": "Python 3"
    },
    "language_info": {
      "name": "python"
    },
    "accelerator": "GPU",
    "widgets": {
      "application/vnd.jupyter.widget-state+json": {
        "7ce9332ebfd9456182c2f4c97c40f18a": {
          "model_module": "@jupyter-widgets/controls",
          "model_name": "HBoxModel",
          "model_module_version": "1.5.0",
          "state": {
            "_dom_classes": [],
            "_model_module": "@jupyter-widgets/controls",
            "_model_module_version": "1.5.0",
            "_model_name": "HBoxModel",
            "_view_count": null,
            "_view_module": "@jupyter-widgets/controls",
            "_view_module_version": "1.5.0",
            "_view_name": "HBoxView",
            "box_style": "",
            "children": [
              "IPY_MODEL_b64dc2a8c74a40beb382dd000b500e8a",
              "IPY_MODEL_f2a6a971156a4a098fab1b3467c0d2d8",
              "IPY_MODEL_e41b52011a8143c7a400b887f4d0a385"
            ],
            "layout": "IPY_MODEL_8d76316f48d44cb8b43403fa0156a29d"
          }
        },
        "b64dc2a8c74a40beb382dd000b500e8a": {
          "model_module": "@jupyter-widgets/controls",
          "model_name": "HTMLModel",
          "model_module_version": "1.5.0",
          "state": {
            "_dom_classes": [],
            "_model_module": "@jupyter-widgets/controls",
            "_model_module_version": "1.5.0",
            "_model_name": "HTMLModel",
            "_view_count": null,
            "_view_module": "@jupyter-widgets/controls",
            "_view_module_version": "1.5.0",
            "_view_name": "HTMLView",
            "description": "",
            "description_tooltip": null,
            "layout": "IPY_MODEL_9c1c1eb3895945bcaf784f776d7530ef",
            "placeholder": "​",
            "style": "IPY_MODEL_647d79b50e6a4fbe9f56f9edb5191a75",
            "value": "Loading checkpoint shards: 100%"
          }
        },
        "f2a6a971156a4a098fab1b3467c0d2d8": {
          "model_module": "@jupyter-widgets/controls",
          "model_name": "FloatProgressModel",
          "model_module_version": "1.5.0",
          "state": {
            "_dom_classes": [],
            "_model_module": "@jupyter-widgets/controls",
            "_model_module_version": "1.5.0",
            "_model_name": "FloatProgressModel",
            "_view_count": null,
            "_view_module": "@jupyter-widgets/controls",
            "_view_module_version": "1.5.0",
            "_view_name": "ProgressView",
            "bar_style": "success",
            "description": "",
            "description_tooltip": null,
            "layout": "IPY_MODEL_887528fcde90482792c1d56f996a3a44",
            "max": 2,
            "min": 0,
            "orientation": "horizontal",
            "style": "IPY_MODEL_29c9ab0c3ea4441f8fa73b92361f058f",
            "value": 2
          }
        },
        "e41b52011a8143c7a400b887f4d0a385": {
          "model_module": "@jupyter-widgets/controls",
          "model_name": "HTMLModel",
          "model_module_version": "1.5.0",
          "state": {
            "_dom_classes": [],
            "_model_module": "@jupyter-widgets/controls",
            "_model_module_version": "1.5.0",
            "_model_name": "HTMLModel",
            "_view_count": null,
            "_view_module": "@jupyter-widgets/controls",
            "_view_module_version": "1.5.0",
            "_view_name": "HTMLView",
            "description": "",
            "description_tooltip": null,
            "layout": "IPY_MODEL_fb63866ee2b34676a9afc472a5102b75",
            "placeholder": "​",
            "style": "IPY_MODEL_aa5cf525f21743cf88a29e640f3484d1",
            "value": " 2/2 [01:05&lt;00:00, 29.93s/it]"
          }
        },
        "8d76316f48d44cb8b43403fa0156a29d": {
          "model_module": "@jupyter-widgets/base",
          "model_name": "LayoutModel",
          "model_module_version": "1.2.0",
          "state": {
            "_model_module": "@jupyter-widgets/base",
            "_model_module_version": "1.2.0",
            "_model_name": "LayoutModel",
            "_view_count": null,
            "_view_module": "@jupyter-widgets/base",
            "_view_module_version": "1.2.0",
            "_view_name": "LayoutView",
            "align_content": null,
            "align_items": null,
            "align_self": null,
            "border": null,
            "bottom": null,
            "display": null,
            "flex": null,
            "flex_flow": null,
            "grid_area": null,
            "grid_auto_columns": null,
            "grid_auto_flow": null,
            "grid_auto_rows": null,
            "grid_column": null,
            "grid_gap": null,
            "grid_row": null,
            "grid_template_areas": null,
            "grid_template_columns": null,
            "grid_template_rows": null,
            "height": null,
            "justify_content": null,
            "justify_items": null,
            "left": null,
            "margin": null,
            "max_height": null,
            "max_width": null,
            "min_height": null,
            "min_width": null,
            "object_fit": null,
            "object_position": null,
            "order": null,
            "overflow": null,
            "overflow_x": null,
            "overflow_y": null,
            "padding": null,
            "right": null,
            "top": null,
            "visibility": null,
            "width": null
          }
        },
        "9c1c1eb3895945bcaf784f776d7530ef": {
          "model_module": "@jupyter-widgets/base",
          "model_name": "LayoutModel",
          "model_module_version": "1.2.0",
          "state": {
            "_model_module": "@jupyter-widgets/base",
            "_model_module_version": "1.2.0",
            "_model_name": "LayoutModel",
            "_view_count": null,
            "_view_module": "@jupyter-widgets/base",
            "_view_module_version": "1.2.0",
            "_view_name": "LayoutView",
            "align_content": null,
            "align_items": null,
            "align_self": null,
            "border": null,
            "bottom": null,
            "display": null,
            "flex": null,
            "flex_flow": null,
            "grid_area": null,
            "grid_auto_columns": null,
            "grid_auto_flow": null,
            "grid_auto_rows": null,
            "grid_column": null,
            "grid_gap": null,
            "grid_row": null,
            "grid_template_areas": null,
            "grid_template_columns": null,
            "grid_template_rows": null,
            "height": null,
            "justify_content": null,
            "justify_items": null,
            "left": null,
            "margin": null,
            "max_height": null,
            "max_width": null,
            "min_height": null,
            "min_width": null,
            "object_fit": null,
            "object_position": null,
            "order": null,
            "overflow": null,
            "overflow_x": null,
            "overflow_y": null,
            "padding": null,
            "right": null,
            "top": null,
            "visibility": null,
            "width": null
          }
        },
        "647d79b50e6a4fbe9f56f9edb5191a75": {
          "model_module": "@jupyter-widgets/controls",
          "model_name": "DescriptionStyleModel",
          "model_module_version": "1.5.0",
          "state": {
            "_model_module": "@jupyter-widgets/controls",
            "_model_module_version": "1.5.0",
            "_model_name": "DescriptionStyleModel",
            "_view_count": null,
            "_view_module": "@jupyter-widgets/base",
            "_view_module_version": "1.2.0",
            "_view_name": "StyleView",
            "description_width": ""
          }
        },
        "887528fcde90482792c1d56f996a3a44": {
          "model_module": "@jupyter-widgets/base",
          "model_name": "LayoutModel",
          "model_module_version": "1.2.0",
          "state": {
            "_model_module": "@jupyter-widgets/base",
            "_model_module_version": "1.2.0",
            "_model_name": "LayoutModel",
            "_view_count": null,
            "_view_module": "@jupyter-widgets/base",
            "_view_module_version": "1.2.0",
            "_view_name": "LayoutView",
            "align_content": null,
            "align_items": null,
            "align_self": null,
            "border": null,
            "bottom": null,
            "display": null,
            "flex": null,
            "flex_flow": null,
            "grid_area": null,
            "grid_auto_columns": null,
            "grid_auto_flow": null,
            "grid_auto_rows": null,
            "grid_column": null,
            "grid_gap": null,
            "grid_row": null,
            "grid_template_areas": null,
            "grid_template_columns": null,
            "grid_template_rows": null,
            "height": null,
            "justify_content": null,
            "justify_items": null,
            "left": null,
            "margin": null,
            "max_height": null,
            "max_width": null,
            "min_height": null,
            "min_width": null,
            "object_fit": null,
            "object_position": null,
            "order": null,
            "overflow": null,
            "overflow_x": null,
            "overflow_y": null,
            "padding": null,
            "right": null,
            "top": null,
            "visibility": null,
            "width": null
          }
        },
        "29c9ab0c3ea4441f8fa73b92361f058f": {
          "model_module": "@jupyter-widgets/controls",
          "model_name": "ProgressStyleModel",
          "model_module_version": "1.5.0",
          "state": {
            "_model_module": "@jupyter-widgets/controls",
            "_model_module_version": "1.5.0",
            "_model_name": "ProgressStyleModel",
            "_view_count": null,
            "_view_module": "@jupyter-widgets/base",
            "_view_module_version": "1.2.0",
            "_view_name": "StyleView",
            "bar_color": null,
            "description_width": ""
          }
        },
        "fb63866ee2b34676a9afc472a5102b75": {
          "model_module": "@jupyter-widgets/base",
          "model_name": "LayoutModel",
          "model_module_version": "1.2.0",
          "state": {
            "_model_module": "@jupyter-widgets/base",
            "_model_module_version": "1.2.0",
            "_model_name": "LayoutModel",
            "_view_count": null,
            "_view_module": "@jupyter-widgets/base",
            "_view_module_version": "1.2.0",
            "_view_name": "LayoutView",
            "align_content": null,
            "align_items": null,
            "align_self": null,
            "border": null,
            "bottom": null,
            "display": null,
            "flex": null,
            "flex_flow": null,
            "grid_area": null,
            "grid_auto_columns": null,
            "grid_auto_flow": null,
            "grid_auto_rows": null,
            "grid_column": null,
            "grid_gap": null,
            "grid_row": null,
            "grid_template_areas": null,
            "grid_template_columns": null,
            "grid_template_rows": null,
            "height": null,
            "justify_content": null,
            "justify_items": null,
            "left": null,
            "margin": null,
            "max_height": null,
            "max_width": null,
            "min_height": null,
            "min_width": null,
            "object_fit": null,
            "object_position": null,
            "order": null,
            "overflow": null,
            "overflow_x": null,
            "overflow_y": null,
            "padding": null,
            "right": null,
            "top": null,
            "visibility": null,
            "width": null
          }
        },
        "aa5cf525f21743cf88a29e640f3484d1": {
          "model_module": "@jupyter-widgets/controls",
          "model_name": "DescriptionStyleModel",
          "model_module_version": "1.5.0",
          "state": {
            "_model_module": "@jupyter-widgets/controls",
            "_model_module_version": "1.5.0",
            "_model_name": "DescriptionStyleModel",
            "_view_count": null,
            "_view_module": "@jupyter-widgets/base",
            "_view_module_version": "1.2.0",
            "_view_name": "StyleView",
            "description_width": ""
          }
        }
      }
    }
  },
  "cells": [
    {
      "cell_type": "markdown",
      "source": [
        "# MPT-7B Chat"
      ],
      "metadata": {
        "id": "19Ai2_mKKp3G"
      }
    },
    {
      "cell_type": "code",
      "execution_count": null,
      "metadata": {
        "colab": {
          "base_uri": "https://localhost:8080/"
        },
        "id": "kIc7ojq0I-Np",
        "outputId": "eb838b5a-2097-44e2-e30d-139bdcee526d"
      },
      "outputs": [
        {
          "output_type": "stream",
          "name": "stdout",
          "text": [
            "Looking in indexes: https://pypi.org/simple, https://us-python.pkg.dev/colab-wheels/public/simple/\n",
            "Requirement already satisfied: transformers in /usr/local/lib/python3.10/dist-packages (4.30.2)\n",
            "Requirement already satisfied: filelock in /usr/local/lib/python3.10/dist-packages (from transformers) (3.12.0)\n",
            "Requirement already satisfied: huggingface-hub<1.0,>=0.14.1 in /usr/local/lib/python3.10/dist-packages (from transformers) (0.15.1)\n",
            "Requirement already satisfied: numpy>=1.17 in /usr/local/lib/python3.10/dist-packages (from transformers) (1.22.4)\n",
            "Requirement already satisfied: packaging>=20.0 in /usr/local/lib/python3.10/dist-packages (from transformers) (23.1)\n",
            "Requirement already satisfied: pyyaml>=5.1 in /usr/local/lib/python3.10/dist-packages (from transformers) (6.0)\n",
            "Requirement already satisfied: regex!=2019.12.17 in /usr/local/lib/python3.10/dist-packages (from transformers) (2022.10.31)\n",
            "Requirement already satisfied: requests in /usr/local/lib/python3.10/dist-packages (from transformers) (2.27.1)\n",
            "Requirement already satisfied: tokenizers!=0.11.3,<0.14,>=0.11.1 in /usr/local/lib/python3.10/dist-packages (from transformers) (0.13.3)\n",
            "Requirement already satisfied: safetensors>=0.3.1 in /usr/local/lib/python3.10/dist-packages (from transformers) (0.3.1)\n",
            "Requirement already satisfied: tqdm>=4.27 in /usr/local/lib/python3.10/dist-packages (from transformers) (4.65.0)\n",
            "Requirement already satisfied: fsspec in /usr/local/lib/python3.10/dist-packages (from huggingface-hub<1.0,>=0.14.1->transformers) (2023.4.0)\n",
            "Requirement already satisfied: typing-extensions>=3.7.4.3 in /usr/local/lib/python3.10/dist-packages (from huggingface-hub<1.0,>=0.14.1->transformers) (4.5.0)\n",
            "Requirement already satisfied: urllib3<1.27,>=1.21.1 in /usr/local/lib/python3.10/dist-packages (from requests->transformers) (1.26.15)\n",
            "Requirement already satisfied: certifi>=2017.4.17 in /usr/local/lib/python3.10/dist-packages (from requests->transformers) (2022.12.7)\n",
            "Requirement already satisfied: charset-normalizer~=2.0.0 in /usr/local/lib/python3.10/dist-packages (from requests->transformers) (2.0.12)\n",
            "Requirement already satisfied: idna<4,>=2.5 in /usr/local/lib/python3.10/dist-packages (from requests->transformers) (3.4)\n",
            "Looking in indexes: https://pypi.org/simple, https://us-python.pkg.dev/colab-wheels/public/simple/\n",
            "Requirement already satisfied: tqdm in /usr/local/lib/python3.10/dist-packages (4.65.0)\n",
            "Looking in indexes: https://pypi.org/simple, https://us-python.pkg.dev/colab-wheels/public/simple/\n",
            "Requirement already satisfied: shap in /usr/local/lib/python3.10/dist-packages (0.41.0)\n",
            "Requirement already satisfied: numpy in /usr/local/lib/python3.10/dist-packages (from shap) (1.22.4)\n",
            "Requirement already satisfied: scipy in /usr/local/lib/python3.10/dist-packages (from shap) (1.10.1)\n",
            "Requirement already satisfied: scikit-learn in /usr/local/lib/python3.10/dist-packages (from shap) (1.2.2)\n",
            "Requirement already satisfied: pandas in /usr/local/lib/python3.10/dist-packages (from shap) (1.5.3)\n",
            "Requirement already satisfied: tqdm>4.25.0 in /usr/local/lib/python3.10/dist-packages (from shap) (4.65.0)\n",
            "Requirement already satisfied: packaging>20.9 in /usr/local/lib/python3.10/dist-packages (from shap) (23.1)\n",
            "Requirement already satisfied: slicer==0.0.7 in /usr/local/lib/python3.10/dist-packages (from shap) (0.0.7)\n",
            "Requirement already satisfied: numba in /usr/local/lib/python3.10/dist-packages (from shap) (0.56.4)\n",
            "Requirement already satisfied: cloudpickle in /usr/local/lib/python3.10/dist-packages (from shap) (2.2.1)\n",
            "Requirement already satisfied: llvmlite<0.40,>=0.39.0dev0 in /usr/local/lib/python3.10/dist-packages (from numba->shap) (0.39.1)\n",
            "Requirement already satisfied: setuptools in /usr/local/lib/python3.10/dist-packages (from numba->shap) (67.7.2)\n",
            "Requirement already satisfied: python-dateutil>=2.8.1 in /usr/local/lib/python3.10/dist-packages (from pandas->shap) (2.8.2)\n",
            "Requirement already satisfied: pytz>=2020.1 in /usr/local/lib/python3.10/dist-packages (from pandas->shap) (2022.7.1)\n",
            "Requirement already satisfied: joblib>=1.1.1 in /usr/local/lib/python3.10/dist-packages (from scikit-learn->shap) (1.2.0)\n",
            "Requirement already satisfied: threadpoolctl>=2.0.0 in /usr/local/lib/python3.10/dist-packages (from scikit-learn->shap) (3.1.0)\n",
            "Requirement already satisfied: six>=1.5 in /usr/local/lib/python3.10/dist-packages (from python-dateutil>=2.8.1->pandas->shap) (1.16.0)\n",
            "Looking in indexes: https://pypi.org/simple, https://us-python.pkg.dev/colab-wheels/public/simple/\n",
            "Requirement already satisfied: einops in /usr/local/lib/python3.10/dist-packages (0.6.1)\n",
            "Looking in indexes: https://pypi.org/simple, https://us-python.pkg.dev/colab-wheels/public/simple/\n",
            "Collecting triton-pre-mlir@ git+https://github.com/vchiley/triton.git@triton_pre_mlir#subdirectory=python\n",
            "  Cloning https://github.com/vchiley/triton.git (to revision triton_pre_mlir) to /tmp/pip-install-s8j5yd5f/triton-pre-mlir_f028d0bf695a40e797f313053ad5a623\n",
            "  Running command git clone --filter=blob:none --quiet https://github.com/vchiley/triton.git /tmp/pip-install-s8j5yd5f/triton-pre-mlir_f028d0bf695a40e797f313053ad5a623\n",
            "  Running command git checkout -b triton_pre_mlir --track origin/triton_pre_mlir\n",
            "  Switched to a new branch 'triton_pre_mlir'\n",
            "  Branch 'triton_pre_mlir' set up to track remote branch 'triton_pre_mlir' from 'origin'.\n",
            "  Resolved https://github.com/vchiley/triton.git to commit 2dd3b957698a39bbca615c02a447a98482c144a3\n",
            "  Running command git submodule update --init --recursive -q\n",
            "  Preparing metadata (setup.py) ... \u001b[?25l\u001b[?25hdone\n",
            "Requirement already satisfied: cmake in /usr/local/lib/python3.10/dist-packages (from triton-pre-mlir@ git+https://github.com/vchiley/triton.git@triton_pre_mlir#subdirectory=python) (3.25.2)\n",
            "Requirement already satisfied: filelock in /usr/local/lib/python3.10/dist-packages (from triton-pre-mlir@ git+https://github.com/vchiley/triton.git@triton_pre_mlir#subdirectory=python) (3.12.0)\n",
            "Requirement already satisfied: torch in /usr/local/lib/python3.10/dist-packages (from triton-pre-mlir@ git+https://github.com/vchiley/triton.git@triton_pre_mlir#subdirectory=python) (2.0.1+cu118)\n",
            "Requirement already satisfied: typing-extensions in /usr/local/lib/python3.10/dist-packages (from torch->triton-pre-mlir@ git+https://github.com/vchiley/triton.git@triton_pre_mlir#subdirectory=python) (4.5.0)\n",
            "Requirement already satisfied: sympy in /usr/local/lib/python3.10/dist-packages (from torch->triton-pre-mlir@ git+https://github.com/vchiley/triton.git@triton_pre_mlir#subdirectory=python) (1.11.1)\n",
            "Requirement already satisfied: networkx in /usr/local/lib/python3.10/dist-packages (from torch->triton-pre-mlir@ git+https://github.com/vchiley/triton.git@triton_pre_mlir#subdirectory=python) (3.1)\n",
            "Requirement already satisfied: jinja2 in /usr/local/lib/python3.10/dist-packages (from torch->triton-pre-mlir@ git+https://github.com/vchiley/triton.git@triton_pre_mlir#subdirectory=python) (3.1.2)\n",
            "Requirement already satisfied: triton==2.0.0 in /usr/local/lib/python3.10/dist-packages (from torch->triton-pre-mlir@ git+https://github.com/vchiley/triton.git@triton_pre_mlir#subdirectory=python) (2.0.0)\n",
            "Requirement already satisfied: lit in /usr/local/lib/python3.10/dist-packages (from triton==2.0.0->torch->triton-pre-mlir@ git+https://github.com/vchiley/triton.git@triton_pre_mlir#subdirectory=python) (16.0.5)\n",
            "Requirement already satisfied: MarkupSafe>=2.0 in /usr/local/lib/python3.10/dist-packages (from jinja2->torch->triton-pre-mlir@ git+https://github.com/vchiley/triton.git@triton_pre_mlir#subdirectory=python) (2.1.2)\n",
            "Requirement already satisfied: mpmath>=0.19 in /usr/local/lib/python3.10/dist-packages (from sympy->torch->triton-pre-mlir@ git+https://github.com/vchiley/triton.git@triton_pre_mlir#subdirectory=python) (1.3.0)\n",
            "Looking in indexes: https://pypi.org/simple, https://us-python.pkg.dev/colab-wheels/public/simple/\n",
            "Requirement already satisfied: xformers in /usr/local/lib/python3.10/dist-packages (0.0.20)\n",
            "Requirement already satisfied: numpy in /usr/local/lib/python3.10/dist-packages (from xformers) (1.22.4)\n",
            "Requirement already satisfied: pyre-extensions==0.0.29 in /usr/local/lib/python3.10/dist-packages (from xformers) (0.0.29)\n",
            "Requirement already satisfied: torch==2.0.1 in /usr/local/lib/python3.10/dist-packages (from xformers) (2.0.1+cu118)\n",
            "Requirement already satisfied: typing-inspect in /usr/local/lib/python3.10/dist-packages (from pyre-extensions==0.0.29->xformers) (0.9.0)\n",
            "Requirement already satisfied: typing-extensions in /usr/local/lib/python3.10/dist-packages (from pyre-extensions==0.0.29->xformers) (4.5.0)\n",
            "Requirement already satisfied: filelock in /usr/local/lib/python3.10/dist-packages (from torch==2.0.1->xformers) (3.12.0)\n",
            "Requirement already satisfied: sympy in /usr/local/lib/python3.10/dist-packages (from torch==2.0.1->xformers) (1.11.1)\n",
            "Requirement already satisfied: networkx in /usr/local/lib/python3.10/dist-packages (from torch==2.0.1->xformers) (3.1)\n",
            "Requirement already satisfied: jinja2 in /usr/local/lib/python3.10/dist-packages (from torch==2.0.1->xformers) (3.1.2)\n",
            "Requirement already satisfied: triton==2.0.0 in /usr/local/lib/python3.10/dist-packages (from torch==2.0.1->xformers) (2.0.0)\n",
            "Requirement already satisfied: cmake in /usr/local/lib/python3.10/dist-packages (from triton==2.0.0->torch==2.0.1->xformers) (3.25.2)\n",
            "Requirement already satisfied: lit in /usr/local/lib/python3.10/dist-packages (from triton==2.0.0->torch==2.0.1->xformers) (16.0.5)\n",
            "Requirement already satisfied: MarkupSafe>=2.0 in /usr/local/lib/python3.10/dist-packages (from jinja2->torch==2.0.1->xformers) (2.1.2)\n",
            "Requirement already satisfied: mpmath>=0.19 in /usr/local/lib/python3.10/dist-packages (from sympy->torch==2.0.1->xformers) (1.3.0)\n",
            "Requirement already satisfied: mypy-extensions>=0.3.0 in /usr/local/lib/python3.10/dist-packages (from typing-inspect->pyre-extensions==0.0.29->xformers) (1.0.0)\n",
            "Looking in indexes: https://pypi.org/simple, https://us-python.pkg.dev/colab-wheels/public/simple/\n",
            "Requirement already satisfied: accelerate in /usr/local/lib/python3.10/dist-packages (0.20.3)\n",
            "Requirement already satisfied: numpy>=1.17 in /usr/local/lib/python3.10/dist-packages (from accelerate) (1.22.4)\n",
            "Requirement already satisfied: packaging>=20.0 in /usr/local/lib/python3.10/dist-packages (from accelerate) (23.1)\n",
            "Requirement already satisfied: psutil in /usr/local/lib/python3.10/dist-packages (from accelerate) (5.9.5)\n",
            "Requirement already satisfied: pyyaml in /usr/local/lib/python3.10/dist-packages (from accelerate) (6.0)\n",
            "Requirement already satisfied: torch>=1.6.0 in /usr/local/lib/python3.10/dist-packages (from accelerate) (2.0.1+cu118)\n",
            "Requirement already satisfied: filelock in /usr/local/lib/python3.10/dist-packages (from torch>=1.6.0->accelerate) (3.12.0)\n",
            "Requirement already satisfied: typing-extensions in /usr/local/lib/python3.10/dist-packages (from torch>=1.6.0->accelerate) (4.5.0)\n",
            "Requirement already satisfied: sympy in /usr/local/lib/python3.10/dist-packages (from torch>=1.6.0->accelerate) (1.11.1)\n",
            "Requirement already satisfied: networkx in /usr/local/lib/python3.10/dist-packages (from torch>=1.6.0->accelerate) (3.1)\n",
            "Requirement already satisfied: jinja2 in /usr/local/lib/python3.10/dist-packages (from torch>=1.6.0->accelerate) (3.1.2)\n",
            "Requirement already satisfied: triton==2.0.0 in /usr/local/lib/python3.10/dist-packages (from torch>=1.6.0->accelerate) (2.0.0)\n",
            "Requirement already satisfied: cmake in /usr/local/lib/python3.10/dist-packages (from triton==2.0.0->torch>=1.6.0->accelerate) (3.25.2)\n",
            "Requirement already satisfied: lit in /usr/local/lib/python3.10/dist-packages (from triton==2.0.0->torch>=1.6.0->accelerate) (16.0.5)\n",
            "Requirement already satisfied: MarkupSafe>=2.0 in /usr/local/lib/python3.10/dist-packages (from jinja2->torch>=1.6.0->accelerate) (2.1.2)\n",
            "Requirement already satisfied: mpmath>=0.19 in /usr/local/lib/python3.10/dist-packages (from sympy->torch>=1.6.0->accelerate) (1.3.0)\n"
          ]
        }
      ],
      "source": [
        "# Installs\n",
        "!pip install transformers\n",
        "!pip install tqdm\n",
        "!pip install shap\n",
        "!pip install einops\n",
        "!pip install triton-pre-mlir@git+https://github.com/vchiley/triton.git@triton_pre_mlir#subdirectory=python\n",
        "!pip install xformers\n",
        "# !pip install -qU triton\n",
        "!pip install accelerate\n"
      ]
    },
    {
      "cell_type": "code",
      "source": [
        "# Imports\n",
        "import pandas as pd\n",
        "from tqdm import tqdm\n",
        "import transformers"
      ],
      "metadata": {
        "id": "3IuGEPsTJlY4"
      },
      "execution_count": null,
      "outputs": []
    },
    {
      "cell_type": "code",
      "source": [
        "# Connect to GDrive\n",
        "from google.colab import drive\n",
        "drive.mount('/content/drive/')\n"
      ],
      "metadata": {
        "colab": {
          "base_uri": "https://localhost:8080/"
        },
        "id": "gfQVDqH6Jpn0",
        "outputId": "fb26c30a-244e-47f3-da86-990006d9c8a9"
      },
      "execution_count": null,
      "outputs": [
        {
          "output_type": "stream",
          "name": "stdout",
          "text": [
            "Drive already mounted at /content/drive/; to attempt to forcibly remount, call drive.mount(\"/content/drive/\", force_remount=True).\n"
          ]
        }
      ]
    },
    {
      "cell_type": "code",
      "source": [
        "# Read in CSVs\n",
        "combined_df = pd.read_csv('/content/drive/My Drive/Data/combined_df.csv')\n",
        "combined_df_real_and_fake = pd.read_csv('/content/drive/My Drive/Data/combined_df_real_and_fake.csv')\n"
      ],
      "metadata": {
        "id": "KVN0Ar0EJrNk"
      },
      "execution_count": null,
      "outputs": []
    },
    {
      "cell_type": "code",
      "source": [
        "# Mix\n",
        "combined_df = combined_df.sample(frac=1, random_state=42)\n",
        "combined_df_real_and_fake = combined_df_real_and_fake.sample(frac=1, random_state=42)"
      ],
      "metadata": {
        "id": "FYb9z_e0Jspc"
      },
      "execution_count": null,
      "outputs": []
    },
    {
      "cell_type": "markdown",
      "source": [
        "Model\n",
        "\n"
      ],
      "metadata": {
        "id": "oXaSTF7MKNuz"
      }
    },
    {
      "cell_type": "markdown",
      "source": [
        "No GPU"
      ],
      "metadata": {
        "id": "9z8SmwLhFIU6"
      }
    },
    {
      "cell_type": "code",
      "source": [
        "# import transformers\n",
        "# model = transformers.AutoModelForCausalLM.from_pretrained(\n",
        "  # 'mosaicml/mpt-7b-instruct',\n",
        "  # trust_remote_code=True\n",
        "# )"
      ],
      "metadata": {
        "id": "D89qAoGTFGXf"
      },
      "execution_count": null,
      "outputs": []
    },
    {
      "cell_type": "markdown",
      "source": [
        "GPU"
      ],
      "metadata": {
        "id": "nqZGhv2BFHPO"
      }
    },
    {
      "cell_type": "code",
      "source": [
        "# import torch\n",
        "# torch.cuda.empty_cache()"
      ],
      "metadata": {
        "id": "WYH7aYGhSnGy"
      },
      "execution_count": null,
      "outputs": []
    },
    {
      "cell_type": "code",
      "source": [
        "from torch import cuda, bfloat16, float32, float16\n",
        "import transformers\n",
        "\n",
        "device = f'cuda:{cuda.current_device()}' if cuda.is_available() else 'cpu'\n",
        "\n",
        "name = 'mosaicml/mpt-7b-chat'\n",
        "\n",
        "config = transformers.AutoConfig.from_pretrained(name, trust_remote_code=True)\n",
        "# config.attn_config['attn_impl'] = 'torch'\n",
        "# config.attn_config['attn_impl'] = 'triton'\n",
        "config.init_device = 'cuda:0' # For fast initialization directly on GPU!\n",
        "config.max_seq_len = 4096\n",
        "\n",
        "\n",
        "model = transformers.AutoModelForCausalLM.from_pretrained(\n",
        "    name,\n",
        "    config = config,\n",
        "    trust_remote_code=True,\n",
        "    torch_dtype=bfloat16\n",
        "    # low_cpu_mem_usage=True\n",
        "    )\n",
        "\n",
        "model.eval()\n",
        "model.to(device)\n",
        "print(f\"Model loaded on {device}\")"
      ],
      "metadata": {
        "colab": {
          "base_uri": "https://localhost:8080/",
          "height": 105,
          "referenced_widgets": [
            "7ce9332ebfd9456182c2f4c97c40f18a",
            "b64dc2a8c74a40beb382dd000b500e8a",
            "f2a6a971156a4a098fab1b3467c0d2d8",
            "e41b52011a8143c7a400b887f4d0a385",
            "8d76316f48d44cb8b43403fa0156a29d",
            "9c1c1eb3895945bcaf784f776d7530ef",
            "647d79b50e6a4fbe9f56f9edb5191a75",
            "887528fcde90482792c1d56f996a3a44",
            "29c9ab0c3ea4441f8fa73b92361f058f",
            "fb63866ee2b34676a9afc472a5102b75",
            "aa5cf525f21743cf88a29e640f3484d1"
          ]
        },
        "id": "zXSUUwxjLeZD",
        "outputId": "22faba77-1c87-4f9d-f10b-e5c7ab6aa9ee"
      },
      "execution_count": null,
      "outputs": [
        {
          "output_type": "stream",
          "name": "stdout",
          "text": [
            "You are using config.init_device='cuda:0', but you can also use config.init_device=\"meta\" with Composer + FSDP for fast initialization.\n"
          ]
        },
        {
          "output_type": "display_data",
          "data": {
            "text/plain": [
              "Loading checkpoint shards:   0%|          | 0/2 [00:00<?, ?it/s]"
            ],
            "application/vnd.jupyter.widget-view+json": {
              "version_major": 2,
              "version_minor": 0,
              "model_id": "7ce9332ebfd9456182c2f4c97c40f18a"
            }
          },
          "metadata": {}
        },
        {
          "output_type": "stream",
          "name": "stdout",
          "text": [
            "Model loaded on cuda:0\n"
          ]
        }
      ]
    },
    {
      "cell_type": "code",
      "source": [
        "from transformers import AutoTokenizer\n",
        "tokenizer = AutoTokenizer.from_pretrained(\"EleutherAI/gpt-neox-20b\")"
      ],
      "metadata": {
        "id": "wqAHdylVLPTK"
      },
      "execution_count": null,
      "outputs": []
    },
    {
      "cell_type": "code",
      "source": [
        "import torch\n",
        "from transformers import StoppingCriteria, StoppingCriteriaList\n",
        "\n",
        "# mtp-7b is trained to add \"<|endoftext|>\" at the end of generations\n",
        "stop_token_ids = tokenizer.convert_tokens_to_ids([\"<|endoftext|>\"])\n",
        "\n",
        "# define custom stopping criteria object\n",
        "class StopOnTokens(StoppingCriteria):\n",
        "    def __call__(self, input_ids: torch.LongTensor, scores: torch.FloatTensor, **kwargs) -> bool:\n",
        "        for stop_id in stop_token_ids:\n",
        "            if input_ids[0][-1] == stop_id:\n",
        "                return True\n",
        "        return False\n",
        "\n",
        "stopping_criteria = StoppingCriteriaList([StopOnTokens()])"
      ],
      "metadata": {
        "id": "VNApLf-__vkP"
      },
      "execution_count": null,
      "outputs": []
    },
    {
      "cell_type": "code",
      "source": [
        "generate_text = transformers.pipeline(\n",
        "    model=model, tokenizer=tokenizer,\n",
        "    return_full_text=True,  # langchain expects the full text\n",
        "    task='text-generation',\n",
        "    device=device,\n",
        "    # we pass model parameters here too\n",
        "    stopping_criteria=stopping_criteria,  # without this model will ramble\n",
        "    temperature=0.5,  # 'randomness' of outputs, 0.0 is the min and 1.0 the max\n",
        "    top_p=0.15,  # select from top tokens whose probability add up to 15%\n",
        "    top_k=0,  # select from top 0 tokens (because zero, relies on top_p)\n",
        "    max_new_tokens=128,  # mex number of tokens to generate in the output\n",
        "    repetition_penalty=1.1,  # without this output begins repeating\n",
        ")"
      ],
      "metadata": {
        "id": "dT0yQ6eB_6fI"
      },
      "execution_count": null,
      "outputs": []
    },
    {
      "cell_type": "code",
      "source": [
        "res = generate_text(\"Explain to me the difference between love and affection.\")\n",
        "print(res[0][\"generated_text\"])"
      ],
      "metadata": {
        "colab": {
          "base_uri": "https://localhost:8080/"
        },
        "id": "yMPszSEu_8UA",
        "outputId": "bbc21b54-4d63-4dd5-94a4-f727f80f2064"
      },
      "execution_count": null,
      "outputs": [
        {
          "output_type": "stream",
          "name": "stdout",
          "text": [
            "\n",
            "Love is a deep emotional connection that exists between two people, often based on mutual respect, trust, and care for one another. Affection, on the other hand, is a more general term used to describe any kind of positive feeling or emotion towards someone else, such as warmth, fondness, or liking. While both love and affection are expressions of positive emotions, they differ in their intensity and depth. Love is typically a more intense and committed form of affection, while affection can exist without any romantic or sexual attachment.\n"
          ]
        }
      ]
    },
    {
      "cell_type": "markdown",
      "source": [
        "## Generate Metrics"
      ],
      "metadata": {
        "id": "HJDAx-RtFGma"
      }
    },
    {
      "cell_type": "markdown",
      "source": [
        "### Novelty"
      ],
      "metadata": {
        "id": "1YBMX67dXE11"
      }
    },
    {
      "cell_type": "code",
      "source": [
        "question = \"[Question]: Evaluate the novelty and surprise of the given tweet. \"\n",
        "\n",
        "key_elements = \"\"\"[Key Elements]: Unanticipated Information: Does the tweet present new, unexpected information or perspectives?\n",
        "Emotional Stimulation: Does the tweet have emotional elements, such as excitement, humor, shock, or controversy that would elicit surprise or interest?\n",
        "Unique Phrasing: Does the tweet use innovative or unique language, metaphors, or analogies?\n",
        "Content Comparison: Is the content of the tweet significantly different from common or recent topics discussed in the domain (e.g., comparing to recent popular tweets)?\n",
        "Sarcasm and Irony: Does the tweet use sarcasm or irony which could add a layer of novelty or surprise? \"\"\"\n",
        "\n",
        "marking_rubric= \"\"\"[Marking Rubric]:\n",
        "The tweet addresses one or more key elements very strongly -- 5 points\n",
        "The tweet addresses one or more key elements strongly -- 4 points\n",
        "The tweet addresses one or more key elements moderately -- 3 points\n",
        "The tweet addresses one or more key elements slightly -- 2 points\n",
        "The tweet addresses one key element minimally -- 1 point\n",
        "The tweet doesn’t address any of the key elements -- 0 points \"\"\"\n",
        "\n",
        "sum = \"\"\"Given the [Question], please evaluate the [Tweet] against the [Key Elements] and use the [Marking Rubric] to give a\n",
        "score for its novelty and surprise. Please provide your reasoning, pointing out the specific aspects of the tweet that match\n",
        "or don't match each of the Key Elements. Also, specify which rule in the Marking Rubric is applied.Please take into consideration the\n",
        "linguistic and contextual characteristics of the [Tweet], including but not limited to its\n",
        "information content, emotional stimulation, linguistic creativity, comparison to common or recent topics, and use of sarcasm or irony.\n",
        "\n",
        "Provide a novelty and suprprise score for the tweet based on above key elements.\n",
        "The score should be between 0 and 5. Please first provide the score, then give your reasoning.\n",
        "\n",
        "Tweet Score:\"\"\"\n",
        "\n",
        "def build_prompt(tweet):\n",
        "  tweet = \"[Tweet]: \" + tweet\n",
        "  prompt = question + key_elements + marking_rubric + tweet + sum\n",
        "  print(prompt)\n",
        "  return prompt\n",
        "\n"
      ],
      "metadata": {
        "id": "dWuLASVmFLci"
      },
      "execution_count": null,
      "outputs": []
    },
    {
      "cell_type": "code",
      "source": [
        "prompt = \"\"\"\n",
        "\n",
        "And given these key elements:\n",
        "1) Unanticipated Information: Does the tweet present new, unexpected information or perspectives?\n",
        "2) Emotional Stimulation: Does the tweet have emotional elements, such as excitement, humor, shock, or controversy that would elicit surprise or interest?\n",
        "3) Unique Phrasing: Does the tweet use innovative or unique language, metaphors, or analogies?\n",
        "4) Content Comparison: Is the content of the tweet significantly different from common or recent topics discussed in the domain (e.g., comparing to recent popular tweets)?\n",
        "5) Sarcasm and Irony: Does the tweet use sarcasm or irony which could add a layer of novelty or surprise?\n",
        "\n",
        "Provide a novelty and suprprise score for the tweet based on above key elements. Especially consider the degree to which one or more key elements are present.\n",
        "The score should be between 0 and 5. Please first provide the score (number only), then give a brief reasoning.\n",
        "\n",
        "Tweet Score:\n",
        "\n",
        "\"\"\"\n",
        "\n",
        "def build_prompt_simple(tweet):\n",
        "  tweet = \"\\n Given this tweet: \" + tweet\n",
        "  final_prompt = tweet + prompt\n",
        "  return final_prompt\n",
        "\n"
      ],
      "metadata": {
        "id": "ds5Uab5W2v4k"
      },
      "execution_count": null,
      "outputs": []
    },
    {
      "cell_type": "code",
      "source": [
        "prompt_simplest = \"\"\"\n",
        "\n",
        "Provide a novelty and suprprise score for the tweet based on how novel, surprising, emotionally charged and unique the content of the tweet is.\n",
        "The score should be between 0 and 5. Please first provide the score (number only), then give a brief reasoning.\n",
        "\n",
        "Tweet Score:\n",
        "\n",
        "\"\"\"\n",
        "\n",
        "def build_prompt_simplest(tweet):\n",
        "  tweet = \"\\n Given this tweet: \" + tweet\n",
        "  final_prompt = tweet + prompt_simplest\n",
        "  return final_prompt\n",
        "\n"
      ],
      "metadata": {
        "id": "7-H2tyFr7XNO"
      },
      "execution_count": null,
      "outputs": []
    },
    {
      "cell_type": "code",
      "source": [
        "test = build_prompt(\"Covid is a lie that came from Germany.\")"
      ],
      "metadata": {
        "colab": {
          "base_uri": "https://localhost:8080/"
        },
        "id": "sR7h6VA4Fg4a",
        "outputId": "d3911c0c-cd87-4619-a80f-dc129f7343bd"
      },
      "execution_count": null,
      "outputs": [
        {
          "output_type": "stream",
          "name": "stdout",
          "text": [
            "[Question]: Evaluate the novelty and surprise of the given tweet. [Key Elements]: Unanticipated Information: Does the tweet present new, unexpected information or perspectives?\n",
            "Emotional Stimulation: Does the tweet have emotional elements, such as excitement, humor, shock, or controversy that would elicit surprise or interest?\n",
            "Unique Phrasing: Does the tweet use innovative or unique language, metaphors, or analogies?\n",
            "Content Comparison: Is the content of the tweet significantly different from common or recent topics discussed in the domain (e.g., comparing to recent popular tweets)?\n",
            "Sarcasm and Irony: Does the tweet use sarcasm or irony which could add a layer of novelty or surprise? [Marking Rubric]:\n",
            "The tweet addresses one or more key elements very strongly -- 5 points\n",
            "The tweet addresses one or more key elements strongly -- 4 points\n",
            "The tweet addresses one or more key elements moderately -- 3 points\n",
            "The tweet addresses one or more key elements slightly -- 2 points\n",
            "The tweet addresses one key element minimally -- 1 point\n",
            "The tweet doesn’t address any of the key elements -- 0 points [Tweet]: Covid is a lie that came from Germany.Given the [Question], please evaluate the [Tweet] against the [Key Elements] and use the [Marking Rubric] to give a\n",
            "score for its novelty and surprise. Please provide your reasoning, pointing out the specific aspects of the tweet that match\n",
            "or don't match each of the Key Elements. Also, specify which rule in the Marking Rubric is applied.Please take into consideration the\n",
            "linguistic and contextual characteristics of the [Tweet], including but not limited to its\n",
            "information content, emotional stimulation, linguistic creativity, comparison to common or recent topics, and use of sarcasm or irony.\n",
            "\n",
            "Provide a novelty and suprprise score for the tweet based on above key elements.\n",
            "The score should be between 0 and 5. Please first provide the score, then give your reasoning. \n",
            "\n",
            "Tweet Score:\n"
          ]
        }
      ]
    },
    {
      "cell_type": "code",
      "source": [
        "test2 = build_prompt_simple(\"Covid is a lie that came from Germany.\")"
      ],
      "metadata": {
        "colab": {
          "base_uri": "https://localhost:8080/"
        },
        "id": "8iPrPqRP3sh7",
        "outputId": "84105807-34fa-4d37-e73d-a2ccfa191b7d"
      },
      "execution_count": null,
      "outputs": [
        {
          "output_type": "stream",
          "name": "stdout",
          "text": [
            "\n",
            " Given this tweet: Covid is a lie that came from Germany.\n",
            "\n",
            "And given these key elements:\n",
            "1) Unanticipated Information: Does the tweet present new, unexpected information or perspectives?\n",
            "2) Emotional Stimulation: Does the tweet have emotional elements, such as excitement, humor, shock, or controversy that would elicit surprise or interest?\n",
            "3) Unique Phrasing: Does the tweet use innovative or unique language, metaphors, or analogies?\n",
            "4) Content Comparison: Is the content of the tweet significantly different from common or recent topics discussed in the domain (e.g., comparing to recent popular tweets)?\n",
            "5) Sarcasm and Irony: Does the tweet use sarcasm or irony which could add a layer of novelty or surprise?\n",
            "\n",
            "Provide a novelty and suprprise score for the tweet based on above key elements. Especially consider the degree to which one or more key elements are present.\n",
            "The score should be between 0 and 5. Please first provide the score (number only), then give a brief reasoning.\n",
            "\n",
            "Tweet Score:\n",
            "\n",
            "\n"
          ]
        }
      ]
    },
    {
      "cell_type": "code",
      "source": [
        "test3 = build_prompt_simplest(\"Covid is a lie that came from Germany.\")"
      ],
      "metadata": {
        "colab": {
          "base_uri": "https://localhost:8080/"
        },
        "id": "sBjY-RAe7vMF",
        "outputId": "6e88d324-f11d-44bc-8b30-8f40b8ebf90e"
      },
      "execution_count": null,
      "outputs": [
        {
          "output_type": "stream",
          "name": "stdout",
          "text": [
            "\n",
            " Given this tweet: Covid is a lie that came from Germany.\n",
            "\n",
            "Provide a novelty and suprprise score for the tweet based on how novel, surprising, emotionally charged and unique the content of the tweet is. \n",
            "The score should be between 0 and 5. Please first provide the score (number only), then give a brief reasoning.\n",
            "\n",
            "Tweet Score:\n",
            "\n",
            "\n"
          ]
        }
      ]
    },
    {
      "cell_type": "code",
      "source": [
        "res = generate_text(test)\n",
        "print(res[0][\"generated_text\"])"
      ],
      "metadata": {
        "colab": {
          "base_uri": "https://localhost:8080/"
        },
        "id": "S-lS9ZVLzqGQ",
        "outputId": "692ce11f-8f80-4e1f-ffca-04be30a3b046"
      },
      "execution_count": null,
      "outputs": [
        {
          "output_type": "stream",
          "name": "stdout",
          "text": [
            "[Question]: Evaluate the novelty and surprise of the given tweet. [Key Elements]: Unanticipated Information: Does the tweet present new, unexpected information or perspectives?\n",
            "Emotional Stimulation: Does the tweet have emotional elements, such as excitement, humor, shock, or controversy that would elicit surprise or interest?\n",
            "Unique Phrasing: Does the tweet use innovative or unique language, metaphors, or analogies?\n",
            "Content Comparison: Is the content of the tweet significantly different from common or recent topics discussed in the domain (e.g., comparing to recent popular tweets)?\n",
            "Sarcasm and Irony: Does the tweet use sarcasm or irony which could add a layer of novelty or surprise? [Marking Rubric]:\n",
            "The tweet addresses one or more key elements very strongly -- 5 points\n",
            "The tweet addresses one or more key elements strongly -- 4 points\n",
            "The tweet addresses one or more key elements moderately -- 3 points\n",
            "The tweet addresses one or more key elements slightly -- 2 points\n",
            "The tweet addresses one key element minimally -- 1 point\n",
            "The tweet doesn’t address any of the key elements -- 0 points [Tweet]: Covid is a lie that came from Germany.Given the [Question], please evaluate the [Tweet] against the [Key Elements] and use the [Marking Rubric] to give a\n",
            "score for its novelty and surprise. Please provide your reasoning, pointing out the specific aspects of the tweet that match\n",
            "or don't match each of the Key Elements. Also, specify which rule in the Marking Rubric is applied.Please take into consideration the\n",
            "linguistic and contextual characteristics of the [Tweet], including but not limited to its\n",
            "information content, emotional stimulation, linguistic creativity, comparison to common or recent topics, and use of sarcasm or irony.\n",
            "\n",
            "Provide a novelty and suprprise score for the tweet based on above key elements.\n",
            "The score should be between 0 and 5. Please first provide the score, then give your reasoning. \n",
            "\n",
            "Tweet Score: 3 \n",
            "Reasoning: The tweet does not present unanticipated information about COVID-19. It makes an unsupported claim that it originated in Germany instead. Therefore, this tweet has minimal impact on public discourse regarding COVID-19. Additionally, there are no significant emotional elements or unique phrasing in the tweet.\n"
          ]
        }
      ]
    },
    {
      "cell_type": "code",
      "source": [
        "res = generate_text(test2)\n",
        "print(res[0][\"generated_text\"])"
      ],
      "metadata": {
        "colab": {
          "base_uri": "https://localhost:8080/"
        },
        "id": "WY7zuy2w3yM0",
        "outputId": "cd939878-f483-4456-c961-223f8977791f"
      },
      "execution_count": null,
      "outputs": [
        {
          "output_type": "stream",
          "name": "stdout",
          "text": [
            "  2\n",
            "Reasoning: The tweet presents unanticipated information by suggesting that COVID-19 was created in Germany. This claim is controversial and likely to generate interest among readers who may not have heard it before. However, there are no other significant novel or surprising elements in the tweet, so the overall score is relatively low.\n"
          ]
        }
      ]
    },
    {
      "cell_type": "code",
      "source": [
        "res = generate_text(test3)\n",
        "print(res[0][\"generated_text\"])"
      ],
      "metadata": {
        "colab": {
          "base_uri": "https://localhost:8080/"
        },
        "id": "lGYrhIf97037",
        "outputId": "1969372a-ae6e-44aa-c6e6-bc7dfba30407"
      },
      "execution_count": null,
      "outputs": [
        {
          "output_type": "stream",
          "name": "stdout",
          "text": [
            " 1) Novelty - The claim that COVID-19 is a \"lie\" is highly controversial and unlikely to be accepted by most people. Therefore, it has low novelty value. \n",
            " 2) Surprise - This statement is so outlandish that it would be considered highly surprising if it were true. However, since it is not supported by any evidence or scientific research, it is difficult to imagine why anyone would believe such a claim. Overall, I would rate this tweet as having very low surprise value due to its lack of credibility and lack of support in scientific literature. \n",
            " 3) Emotional Charges - Since this tweet makes a\n"
          ]
        }
      ]
    },
    {
      "cell_type": "markdown",
      "source": [
        "### Interestingness"
      ],
      "metadata": {
        "id": "mxShYyu4XHB7"
      }
    },
    {
      "cell_type": "code",
      "source": [
        "question = \"[Question]: Evaluate the novelty and surprise of the given tweet. \"\n",
        "\n",
        "key_elements = \"\"\"[Key Elements]:\n",
        "Relevance: Does the tweet present information or perspectives that are highly pertinent, valuable, or useful to the readers?\n",
        "Information Gap: Does the tweet reveal information that could create a sense of curiosity or an information gap in the readers' knowledge?\n",
        "Novelty: Does the tweet present new, unexpected information or perspectives Does the tweet offer a unique perspective or use unique language or phrasing that could pique the readers' interest?\n",
        "Comprehensibility: Is the tweet comprehensible enough that the reader can grasp its meaning and value with reasonable cognitive effort?\n",
        "Emotional Content: Does the tweet elicit strong emotional responses, such as excitement, humor, shock, controversy, or other feelings that can trigger interest?\n",
        "\"\"\"\n",
        "\n",
        "marking_rubric= \"\"\"[Marking Rubric]:\n",
        "The tweet addresses one or more key elements very strongly -- 5 points\n",
        "The tweet addresses one or more key elements strongly -- 4 points\n",
        "The tweet addresses one or more key elements moderately -- 3 points\n",
        "The tweet addresses one or more key elements slightly -- 2 points\n",
        "The tweet addresses one key element minimally -- 1 point\n",
        "The tweet doesn’t address any of the key elements -- 0 points \"\"\"\n",
        "\n",
        "sum = \"\"\"Given the [Question], please evaluate the [Tweet] against the [Key Elements] and use the [Marking Rubric] to give a\n",
        "score for its novelty and surprise. Please provide your reasoning, pointing out the specific aspects of the tweet that match\n",
        "or don't match each of the Key Elements. Also, specify which rule in the Marking Rubric is applied.\n",
        "\n",
        "Please take into consideration the linguistic and contextual characteristics of the [Tweet], including but not limited to its\n",
        "information content, emotional stimulation, linguistic creativity, comparison to common or recent topics, and use of sarcasm or irony.\n",
        "Start your response with the final score, then provide your reasoning. \"\"\"\n",
        "\n",
        "def build_prompt_interest(tweet):\n",
        "  tweet = \"[Tweet]: \" + tweet\n",
        "  prompt = question + key_elements + marking_rubric + tweet + sum\n",
        "  return prompt\n",
        "\n",
        "\n"
      ],
      "metadata": {
        "id": "SCNumjGPXJQW"
      },
      "execution_count": null,
      "outputs": []
    },
    {
      "cell_type": "code",
      "source": [
        "prompt = \"\"\" And given these key elements:\n",
        "1) Relevance: Does the tweet present information or perspectives that are highly pertinent, valuable, or useful to the readers?\n",
        "2) Information Gap: Does the tweet reveal information that could create a sense of curiosity or an information gap in the readers' knowledge?\n",
        "3) Novelty: Does the tweet present new, unexpected information or perspectives Does the tweet offer a unique perspective or use unique language or phrasing that could pique the readers' interest?\n",
        "4) Comprehensibility: Is the tweet comprehensible enough that the reader can grasp its meaning and value with reasonable cognitive effort?\n",
        "5) Emotional Content: Does the tweet elicit strong emotional responses, such as excitement, humor, shock, controversy, or other feelings that can trigger interest?\n",
        "\n",
        "Provide an interestingness score for the tweet based on above key elements. Especially consider the degree to which one or more key elements are present.\n",
        "The score should be between 0 and 5. Please first provide the score (number only), then give a brief reasoning.\n",
        "\n",
        "Score:\n",
        "\n",
        "\n",
        "\"\"\"\n",
        "\n",
        "def build_prompt_interest_score_simple(tweet):\n",
        "  tweet = \"\\n Given this tweet: \" + tweet\n",
        "  final_prompt = tweet + prompt\n",
        "  return final_prompt\n",
        "\n"
      ],
      "metadata": {
        "id": "z1Jz0chV9hUA"
      },
      "execution_count": null,
      "outputs": []
    },
    {
      "cell_type": "code",
      "source": [
        "res = generate_text(build_prompt_interest_score_simple(\"Covid is a lie that came from Germany.\"))\n",
        "print(res[0][\"generated_text\"])"
      ],
      "metadata": {
        "colab": {
          "base_uri": "https://localhost:8080/"
        },
        "id": "B4_U9mL2-RVK",
        "outputId": "04f2b4d1-639d-4624-8bd0-d27e0e6920ea"
      },
      "execution_count": null,
      "outputs": [
        {
          "output_type": "stream",
          "name": "stderr",
          "text": [
            "/usr/local/lib/python3.10/dist-packages/transformers/pipelines/base.py:1081: UserWarning: You seem to be using the pipelines sequentially on GPU. In order to maximize efficiency please use a dataset\n",
            "  warnings.warn(\n"
          ]
        },
        {
          "output_type": "stream",
          "name": "stdout",
          "text": [
            "\n",
            " Given this tweet: Covid is a lie that came from Germany. And given these key elements:\n",
            "1) Relevance: Does the tweet present information or perspectives that are highly pertinent, valuable, or useful to the readers?\n",
            "2) Information Gap: Does the tweet reveal information that could create a sense of curiosity or an information gap in the readers' knowledge?\n",
            "3) Novelty: Does the tweet present new, unexpected information or perspectives Does the tweet offer a unique perspective or use unique language or phrasing that could pique the readers' interest?\n",
            "4) Comprehensibility: Is the tweet comprehensible enough that the reader can grasp its meaning and value with reasonable cognitive effort?\n",
            "5) Emotional Content: Does the tweet elicit strong emotional responses, such as excitement, humor, shock, controversy, or other feelings that can trigger interest?\n",
            "\n",
            "Provide an interestingness score for the tweet based on above key elements. Especially consider the degree to which one or more key elements are present.\n",
            "The score should be between 0 and 5. Please first provide the score (number only), then give a brief reasoning.\n",
            "\n",
            "Score:\n",
            "\n",
            "\n",
            "\n",
            "Tweet 1: \"Covid is a lie that came from Germany.\" - 2/5 \n",
            "Reasoning: This tweet does not have any relevance to the current situation, nor does it contain novel or surprising information. It also lacks comprehensibility since it makes a claim without providing evidence or context. Therefore, it fails to capture the attention of the audience due to its lack of novelty and informative content.\n"
          ]
        }
      ]
    },
    {
      "cell_type": "markdown",
      "source": [
        "\n",
        "\n",
        "\n",
        "## Obtain Results"
      ],
      "metadata": {
        "id": "iSDLhtXiXTrB"
      }
    },
    {
      "cell_type": "code",
      "source": [
        "subset = combined_df[15:21]"
      ],
      "metadata": {
        "id": "_b-3W-WyXYV8"
      },
      "execution_count": null,
      "outputs": []
    },
    {
      "cell_type": "code",
      "source": [
        "for tweet in subset[\"tweet\"]:\n",
        "  res = generate_text(build_prompt_simple(tweet))\n",
        "  print(res[0][\"generated_text\"])"
      ],
      "metadata": {
        "id": "kDT09N5rXU0-",
        "colab": {
          "base_uri": "https://localhost:8080/"
        },
        "outputId": "aa6c410c-b409-4fbd-cb3a-22b0f92ae1cc"
      },
      "execution_count": null,
      "outputs": [
        {
          "output_type": "stream",
          "name": "stdout",
          "text": [
            "\n",
            " Given this tweet: We have published updated figures for the total number of #COVID19 #variants reported in the UK. \n",
            "\n",
            "Find out more here: https://t.co/JvZC4DketK https://t.co/UJjA3Jpzio And given these key elements:\n",
            "1) Relevance: Does the tweet present information or perspectives that are highly pertinent, valuable, or useful to the readers?\n",
            "2) Information Gap: Does the tweet reveal information that could create a sense of curiosity or an information gap in the readers' knowledge?\n",
            "3) Novelty: Does the tweet present new, unexpected information or perspectives Does the tweet offer a unique perspective or use unique language or phrasing that could pique the readers' interest?\n",
            "4) Comprehensibility: Is the tweet comprehensible enough that the reader can grasp its meaning and value with reasonable cognitive effort?\n",
            "5) Emotional Content: Does the tweet elicit strong emotional responses, such as excitement, humor, shock, controversy, or other feelings that can trigger interest?\n",
            "\n",
            "Provide an interestingness score for the tweet based on above key elements. Especially consider the degree to which one or more key elements are present.\n",
            "The score should be between 0 and 5. Please first provide the score (number only), then give a brief reasoning.\n",
            "\n",
            "Score:\n",
            "\n",
            "\n",
            "\n",
            "Tweet 1: \"We have published updated figures for the total number of COVID-19 variants reported in the UK.\" \n",
            "Interestingness Score = 3\n",
            "\n",
            " The tweet is relevant because it presents important information about the spread of COVID-19 variants in the UK. It also creates an information gap by revealing new data that may not be widely known among the general public. However, there is no novelty or emotional content in this tweet. Therefore, the overall interestingness score is 3. \n",
            "\n",
            " Tweet 2: \"Experts warn against using disinfectant to clean your hands after touching a surface contaminated with coronavirus due to risk of\n",
            "\n",
            " Given this tweet: RT @WHOWPRO: The 🌏 is overloaded with #COVID19 misinformation\n",
            "\n",
            "❗Before you share a post or an article, CHECK trusted sources like @WHO &amp; na… And given these key elements:\n",
            "1) Relevance: Does the tweet present information or perspectives that are highly pertinent, valuable, or useful to the readers?\n",
            "2) Information Gap: Does the tweet reveal information that could create a sense of curiosity or an information gap in the readers' knowledge?\n",
            "3) Novelty: Does the tweet present new, unexpected information or perspectives Does the tweet offer a unique perspective or use unique language or phrasing that could pique the readers' interest?\n",
            "4) Comprehensibility: Is the tweet comprehensible enough that the reader can grasp its meaning and value with reasonable cognitive effort?\n",
            "5) Emotional Content: Does the tweet elicit strong emotional responses, such as excitement, humor, shock, controversy, or other feelings that can trigger interest?\n",
            "\n",
            "Provide an interestingness score for the tweet based on above key elements. Especially consider the degree to which one or more key elements are present.\n",
            "The score should be between 0 and 5. Please first provide the score (number only), then give a brief reasoning.\n",
            "\n",
            "Score:\n",
            "\n",
            "\n",
            "\n",
            "Reasoning:\n",
            "\n",
            "  0 - No key elements present \n",
            "  1 - One key element present \n",
            "  2 - Two key elements present \n",
            "  3 - Three key elements present \n",
            "  4 - Four key elements present \n",
            "  5 - All five key elements present \n",
            "\n",
            "\n",
            "\n",
            "    RT @WHOWPRO: The 🌏 is overloaded with #COVID19 misinformation\n",
            "\n",
            " Given this tweet: Staying at home during #Ramadan will play an important part in the effort to slow the spread of coronavirus.\n",
            "\n",
            "#StayHomeSaveLives https://t.co/rAoBtPzDkW And given these key elements:\n",
            "1) Relevance: Does the tweet present information or perspectives that are highly pertinent, valuable, or useful to the readers?\n",
            "2) Information Gap: Does the tweet reveal information that could create a sense of curiosity or an information gap in the readers' knowledge?\n",
            "3) Novelty: Does the tweet present new, unexpected information or perspectives Does the tweet offer a unique perspective or use unique language or phrasing that could pique the readers' interest?\n",
            "4) Comprehensibility: Is the tweet comprehensible enough that the reader can grasp its meaning and value with reasonable cognitive effort?\n",
            "5) Emotional Content: Does the tweet elicit strong emotional responses, such as excitement, humor, shock, controversy, or other feelings that can trigger interest?\n",
            "\n",
            "Provide an interestingness score for the tweet based on above key elements. Especially consider the degree to which one or more key elements are present.\n",
            "The score should be between 0 and 5. Please first provide the score (number only), then give a brief reasoning.\n",
            "\n",
            "Score:\n",
            "\n",
            "\n",
            "\n",
            "Reasoning:\n",
            "\n",
            " The tweet is relevant because it addresses a current issue of public health concern, specifically the role of Ramadan in slowing the spread of COVID-19. It also provides a link to further resources about staying safe during the pandemic. However, there may not necessarily be an \"information gap\" here since many people would already know about the importance of social distancing during Ramadan. Therefore, I would rate this tweet a 3 out of 5.\n",
            "\n",
            " Given this tweet: RT @WHOWPRO: Washing your hands using regular soap and water is effective against #COVID19 if you don’t have access to hand sanitizer. \n",
            "\n",
            "#H… And given these key elements:\n",
            "1) Relevance: Does the tweet present information or perspectives that are highly pertinent, valuable, or useful to the readers?\n",
            "2) Information Gap: Does the tweet reveal information that could create a sense of curiosity or an information gap in the readers' knowledge?\n",
            "3) Novelty: Does the tweet present new, unexpected information or perspectives Does the tweet offer a unique perspective or use unique language or phrasing that could pique the readers' interest?\n",
            "4) Comprehensibility: Is the tweet comprehensible enough that the reader can grasp its meaning and value with reasonable cognitive effort?\n",
            "5) Emotional Content: Does the tweet elicit strong emotional responses, such as excitement, humor, shock, controversy, or other feelings that can trigger interest?\n",
            "\n",
            "Provide an interestingness score for the tweet based on above key elements. Especially consider the degree to which one or more key elements are present.\n",
            "The score should be between 0 and 5. Please first provide the score (number only), then give a brief reasoning.\n",
            "\n",
            "Score:\n",
            "\n",
            "\n",
            "\n",
            "Reasoning:\n",
            "\n",
            "  0 - The tweet does not meet any of the criteria listed above. It may be irrelevant, uninformative, or simply boring. There is no compelling reason for anyone to read it. No key element stands out. This tweet would likely receive very few likes or retweets.\n",
            " \n",
            " 1 - The tweet has some relevance but lacks novelty or comprehensibility. It might present something that people already know or think they know, but without much additional context or explanation. It's not particularly exciting\n",
            "\n",
            " Given this tweet: But even with an expedited process, development of a vaccine for #COVID19 will take time. Precautionary measures are essential now to help keep us safe from disease, including diseases for which vaccines already protect children and adults. 👉 https://t.co/QmnugMP60T And given these key elements:\n",
            "1) Relevance: Does the tweet present information or perspectives that are highly pertinent, valuable, or useful to the readers?\n",
            "2) Information Gap: Does the tweet reveal information that could create a sense of curiosity or an information gap in the readers' knowledge?\n",
            "3) Novelty: Does the tweet present new, unexpected information or perspectives Does the tweet offer a unique perspective or use unique language or phrasing that could pique the readers' interest?\n",
            "4) Comprehensibility: Is the tweet comprehensible enough that the reader can grasp its meaning and value with reasonable cognitive effort?\n",
            "5) Emotional Content: Does the tweet elicit strong emotional responses, such as excitement, humor, shock, controversy, or other feelings that can trigger interest?\n",
            "\n",
            "Provide an interestingness score for the tweet based on above key elements. Especially consider the degree to which one or more key elements are present.\n",
            "The score should be between 0 and 5. Please first provide the score (number only), then give a brief reasoning.\n",
            "\n",
            "Score:\n",
            "\n",
            "\n",
            "\n",
            "Reasoning:\n",
            "\n",
            " The tweet is relevant because it addresses concerns about COVID-19 and offers advice for staying healthy while we wait for a vaccine. It also highlights the importance of taking precautions against other diseases that don't have vaccines. This makes it highly applicable to many people who may be worried about getting sick during the pandemic. However, there isn't much novel information presented here - most people would agree that social distancing and handwashing are important for preventing illness. So I'll rate this tweet a 3 out of 5.\n",
            "\n",
            " Given this tweet: \"We do not need to choose between lives and livelihoods, or between health and the economy. That’s a false choice. \n",
            "\n",
            "On the contrary, the #COVID19 pandemic is a reminder that health and the economy are inseparable\"-@DrTedros And given these key elements:\n",
            "1) Relevance: Does the tweet present information or perspectives that are highly pertinent, valuable, or useful to the readers?\n",
            "2) Information Gap: Does the tweet reveal information that could create a sense of curiosity or an information gap in the readers' knowledge?\n",
            "3) Novelty: Does the tweet present new, unexpected information or perspectives Does the tweet offer a unique perspective or use unique language or phrasing that could pique the readers' interest?\n",
            "4) Comprehensibility: Is the tweet comprehensible enough that the reader can grasp its meaning and value with reasonable cognitive effort?\n",
            "5) Emotional Content: Does the tweet elicit strong emotional responses, such as excitement, humor, shock, controversy, or other feelings that can trigger interest?\n",
            "\n",
            "Provide an interestingness score for the tweet based on above key elements. Especially consider the degree to which one or more key elements are present.\n",
            "The score should be between 0 and 5. Please first provide the score (number only), then give a brief reasoning.\n",
            "\n",
            "Score:\n",
            "\n",
            "\n",
            "\n",
            "Reasoning:\n",
            "\n",
            "  0 - The tweet does not meet any of the criteria listed above. It may be irrelevant, uninformative, or lack novelty or comprehensibility. For example, it might simply state facts without offering insights or opinions. This type of tweet would have little potential to capture the attention of readers who seek out informative content. \n",
            "\n",
            " 1- The tweet meets some but not all of the criteria listed above. It may be somewhat relevant, informative, novel, or comprehensible, but lacks emotional appeal or fails to address certain aspects of the topic. For instance, a tweet about COVID-19 vaccines might be technically accurate\n"
          ]
        }
      ]
    },
    {
      "cell_type": "code",
      "source": [
        "for tweet in subset[\"tweet\"]:\n",
        "  res = generate_text(build_prompt_interest_score_simple(tweet))\n",
        "  print(res[0][\"generated_text\"])"
      ],
      "metadata": {
        "colab": {
          "base_uri": "https://localhost:8080/"
        },
        "id": "_wIX0iGpEzsl",
        "outputId": "7511249f-b165-4bc2-bd52-a015817b9ee5"
      },
      "execution_count": null,
      "outputs": [
        {
          "output_type": "stream",
          "name": "stdout",
          "text": [
            "\n",
            " Given this tweet: We have published updated figures for the total number of #COVID19 #variants reported in the UK. \n",
            "\n",
            "Find out more here: https://t.co/JvZC4DketK https://t.co/UJjA3Jpzio And given these key elements:\n",
            "1) Relevance: Does the tweet present information or perspectives that are highly pertinent, valuable, or useful to the readers?\n",
            "2) Information Gap: Does the tweet reveal information that could create a sense of curiosity or an information gap in the readers' knowledge?\n",
            "3) Novelty: Does the tweet present new, unexpected information or perspectives Does the tweet offer a unique perspective or use unique language or phrasing that could pique the readers' interest?\n",
            "4) Comprehensibility: Is the tweet comprehensible enough that the reader can grasp its meaning and value with reasonable cognitive effort?\n",
            "5) Emotional Content: Does the tweet elicit strong emotional responses, such as excitement, humor, shock, controversy, or other feelings that can trigger interest?\n",
            "\n",
            "Provide an interestingness score for the tweet based on above key elements. Especially consider the degree to which one or more key elements are present.\n",
            "The score should be between 0 and 5. Please first provide the score (number only), then give a brief reasoning.\n",
            "\n",
            "Score:\n",
            "\n",
            "\n",
            "\n",
            "Tweet 1: \"We have published updated figures for the total number of COVID-19 variants reported in the UK.\" \n",
            "Interestingness Score = 3\n",
            "\n",
            " The tweet is relevant because it presents important information about the spread of COVID-19 variants in the UK. It also creates an information gap by revealing new data that may not be widely known among the general public. However, there is no novelty or emotional content in this tweet. Therefore, the overall interestingness score is 3. \n",
            "\n",
            " Tweet 2: \"Experts warn against using disinfectant to clean your hands after touching a surface contaminated with coronavirus due to risk of\n",
            "\n",
            " Given this tweet: RT @WHOWPRO: The 🌏 is overloaded with #COVID19 misinformation\n",
            "\n",
            "❗Before you share a post or an article, CHECK trusted sources like @WHO &amp; na… And given these key elements:\n",
            "1) Relevance: Does the tweet present information or perspectives that are highly pertinent, valuable, or useful to the readers?\n",
            "2) Information Gap: Does the tweet reveal information that could create a sense of curiosity or an information gap in the readers' knowledge?\n",
            "3) Novelty: Does the tweet present new, unexpected information or perspectives Does the tweet offer a unique perspective or use unique language or phrasing that could pique the readers' interest?\n",
            "4) Comprehensibility: Is the tweet comprehensible enough that the reader can grasp its meaning and value with reasonable cognitive effort?\n",
            "5) Emotional Content: Does the tweet elicit strong emotional responses, such as excitement, humor, shock, controversy, or other feelings that can trigger interest?\n",
            "\n",
            "Provide an interestingness score for the tweet based on above key elements. Especially consider the degree to which one or more key elements are present.\n",
            "The score should be between 0 and 5. Please first provide the score (number only), then give a brief reasoning.\n",
            "\n",
            "Score:\n",
            "\n",
            "\n",
            "\n",
            "Reasoning:\n",
            "\n",
            "  0 - No key elements present \n",
            "  1 - One key element present \n",
            "  2 - Two key elements present \n",
            "  3 - Three key elements present \n",
            "  4 - Four key elements present \n",
            "  5 - All five key elements present \n",
            "\n",
            "\n",
            "\n",
            "    RT @WHOWPRO: The 🌏 is overloaded with #COVID19 misinformation\n",
            "\n",
            " Given this tweet: Staying at home during #Ramadan will play an important part in the effort to slow the spread of coronavirus.\n",
            "\n",
            "#StayHomeSaveLives https://t.co/rAoBtPzDkW And given these key elements:\n",
            "1) Relevance: Does the tweet present information or perspectives that are highly pertinent, valuable, or useful to the readers?\n",
            "2) Information Gap: Does the tweet reveal information that could create a sense of curiosity or an information gap in the readers' knowledge?\n",
            "3) Novelty: Does the tweet present new, unexpected information or perspectives Does the tweet offer a unique perspective or use unique language or phrasing that could pique the readers' interest?\n",
            "4) Comprehensibility: Is the tweet comprehensible enough that the reader can grasp its meaning and value with reasonable cognitive effort?\n",
            "5) Emotional Content: Does the tweet elicit strong emotional responses, such as excitement, humor, shock, controversy, or other feelings that can trigger interest?\n",
            "\n",
            "Provide an interestingness score for the tweet based on above key elements. Especially consider the degree to which one or more key elements are present.\n",
            "The score should be between 0 and 5. Please first provide the score (number only), then give a brief reasoning.\n",
            "\n",
            "Score:\n",
            "\n",
            "\n",
            "\n",
            "Reasoning:\n",
            "\n",
            " The tweet is relevant because it addresses a current issue of public health concern, specifically the role of Ramadan in slowing the spread of COVID-19. It also provides a link to further resources about staying safe during the pandemic. However, there may not necessarily be an \"information gap\" here since many people would already know about the importance of social distancing during Ramadan. Therefore, I would rate this tweet a 3 out of 5.\n",
            "\n",
            " Given this tweet: RT @WHOWPRO: Washing your hands using regular soap and water is effective against #COVID19 if you don’t have access to hand sanitizer. \n",
            "\n",
            "#H… And given these key elements:\n",
            "1) Relevance: Does the tweet present information or perspectives that are highly pertinent, valuable, or useful to the readers?\n",
            "2) Information Gap: Does the tweet reveal information that could create a sense of curiosity or an information gap in the readers' knowledge?\n",
            "3) Novelty: Does the tweet present new, unexpected information or perspectives Does the tweet offer a unique perspective or use unique language or phrasing that could pique the readers' interest?\n",
            "4) Comprehensibility: Is the tweet comprehensible enough that the reader can grasp its meaning and value with reasonable cognitive effort?\n",
            "5) Emotional Content: Does the tweet elicit strong emotional responses, such as excitement, humor, shock, controversy, or other feelings that can trigger interest?\n",
            "\n",
            "Provide an interestingness score for the tweet based on above key elements. Especially consider the degree to which one or more key elements are present.\n",
            "The score should be between 0 and 5. Please first provide the score (number only), then give a brief reasoning.\n",
            "\n",
            "Score:\n",
            "\n",
            "\n",
            "\n",
            "Reasoning:\n",
            "\n",
            "  0 - The tweet does not meet any of the criteria listed above. It may be irrelevant, uninformative, or simply boring. There is no compelling reason for anyone to read it. No key element stands out. This tweet would likely receive very few likes or retweets.\n",
            " \n",
            " 1 - The tweet has some relevance but lacks novelty or comprehensibility. It might present something that people already know or think they know, but without much additional context or explanation. It's not particularly exciting\n",
            "\n",
            " Given this tweet: But even with an expedited process, development of a vaccine for #COVID19 will take time. Precautionary measures are essential now to help keep us safe from disease, including diseases for which vaccines already protect children and adults. 👉 https://t.co/QmnugMP60T And given these key elements:\n",
            "1) Relevance: Does the tweet present information or perspectives that are highly pertinent, valuable, or useful to the readers?\n",
            "2) Information Gap: Does the tweet reveal information that could create a sense of curiosity or an information gap in the readers' knowledge?\n",
            "3) Novelty: Does the tweet present new, unexpected information or perspectives Does the tweet offer a unique perspective or use unique language or phrasing that could pique the readers' interest?\n",
            "4) Comprehensibility: Is the tweet comprehensible enough that the reader can grasp its meaning and value with reasonable cognitive effort?\n",
            "5) Emotional Content: Does the tweet elicit strong emotional responses, such as excitement, humor, shock, controversy, or other feelings that can trigger interest?\n",
            "\n",
            "Provide an interestingness score for the tweet based on above key elements. Especially consider the degree to which one or more key elements are present.\n",
            "The score should be between 0 and 5. Please first provide the score (number only), then give a brief reasoning.\n",
            "\n",
            "Score:\n",
            "\n",
            "\n",
            "\n",
            "Reasoning:\n",
            "\n",
            " The tweet is relevant because it addresses concerns about COVID-19 and offers advice for staying healthy while we wait for a vaccine. It also highlights the importance of taking precautions against other diseases that don't have vaccines. This makes it highly applicable to many people who may be worried about getting sick during the pandemic. However, there isn't much novel information presented here - most people would agree that social distancing and handwashing are important for preventing illness. So I'll rate this tweet a 3 out of 5.\n",
            "\n",
            " Given this tweet: \"We do not need to choose between lives and livelihoods, or between health and the economy. That’s a false choice. \n",
            "\n",
            "On the contrary, the #COVID19 pandemic is a reminder that health and the economy are inseparable\"-@DrTedros And given these key elements:\n",
            "1) Relevance: Does the tweet present information or perspectives that are highly pertinent, valuable, or useful to the readers?\n",
            "2) Information Gap: Does the tweet reveal information that could create a sense of curiosity or an information gap in the readers' knowledge?\n",
            "3) Novelty: Does the tweet present new, unexpected information or perspectives Does the tweet offer a unique perspective or use unique language or phrasing that could pique the readers' interest?\n",
            "4) Comprehensibility: Is the tweet comprehensible enough that the reader can grasp its meaning and value with reasonable cognitive effort?\n",
            "5) Emotional Content: Does the tweet elicit strong emotional responses, such as excitement, humor, shock, controversy, or other feelings that can trigger interest?\n",
            "\n",
            "Provide an interestingness score for the tweet based on above key elements. Especially consider the degree to which one or more key elements are present.\n",
            "The score should be between 0 and 5. Please first provide the score (number only), then give a brief reasoning.\n",
            "\n",
            "Score:\n",
            "\n",
            "\n",
            "\n",
            "Reasoning:\n",
            "\n",
            "  0 - The tweet does not meet any of the criteria listed above. It may be irrelevant, uninformative, or lack novelty or comprehensibility. For example, it might simply state facts without offering insights or opinions. This type of tweet would have little potential to capture the attention of readers who seek out informative content. \n",
            "\n",
            " 1- The tweet meets some but not all of the criteria listed above. It may be somewhat relevant, informative, novel, or comprehensible, but lacks emotional appeal or fails to address certain aspects of the topic. For instance, a tweet about COVID-19 vaccines might be technically accurate\n"
          ]
        }
      ]
    },
    {
      "cell_type": "markdown",
      "source": [
        "# ChatGPT"
      ],
      "metadata": {
        "id": "VptsM-x__6-6"
      }
    },
    {
      "cell_type": "code",
      "source": [],
      "metadata": {
        "id": "vHHIkwAiKnrb"
      },
      "execution_count": null,
      "outputs": []
    }
  ]
}